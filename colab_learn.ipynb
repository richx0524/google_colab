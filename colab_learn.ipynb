{
  "nbformat": 4,
  "nbformat_minor": 0,
  "metadata": {
    "colab": {
      "provenance": [],
      "authorship_tag": "ABX9TyPzwW8oe1yuBZA85B3tPfbi",
      "include_colab_link": true
    },
    "kernelspec": {
      "name": "python3",
      "display_name": "Python 3"
    },
    "language_info": {
      "name": "python"
    }
  },
  "cells": [
    {
      "cell_type": "markdown",
      "metadata": {
        "id": "view-in-github",
        "colab_type": "text"
      },
      "source": [
        "<a href=\"https://colab.research.google.com/github/richx0524/google_colab/blob/main/colab_learn.ipynb\" target=\"_parent\"><img src=\"https://colab.research.google.com/assets/colab-badge.svg\" alt=\"Open In Colab\"/></a>"
      ]
    },
    {
      "cell_type": "code",
      "execution_count": 2,
      "metadata": {
        "colab": {
          "base_uri": "https://localhost:8080/"
        },
        "id": "SlZtwYY_7fqA",
        "outputId": "93536af2-4fee-41ad-e8fb-bc4d31f09bd7"
      },
      "outputs": [
        {
          "output_type": "stream",
          "name": "stdout",
          "text": [
            "Test_NN(\n",
            "  (model1): Sequential(\n",
            "    (0): Conv2d(3, 32, kernel_size=(5, 5), stride=(1, 1), padding=(2, 2))\n",
            "    (1): MaxPool2d(kernel_size=2, stride=2, padding=0, dilation=1, ceil_mode=False)\n",
            "    (2): Conv2d(32, 32, kernel_size=(5, 5), stride=(1, 1), padding=(2, 2))\n",
            "    (3): MaxPool2d(kernel_size=2, stride=2, padding=0, dilation=1, ceil_mode=False)\n",
            "    (4): Conv2d(32, 64, kernel_size=(5, 5), stride=(1, 1), padding=(2, 2))\n",
            "    (5): MaxPool2d(kernel_size=2, stride=2, padding=0, dilation=1, ceil_mode=False)\n",
            "    (6): Flatten(start_dim=1, end_dim=-1)\n",
            "    (7): Linear(in_features=1024, out_features=64, bias=True)\n",
            "    (8): Linear(in_features=64, out_features=10, bias=True)\n",
            "  )\n",
            ")\n",
            "torch.Size([64, 3, 32, 32])\n",
            "torch.Size([64, 10])\n"
          ]
        }
      ],
      "source": [
        "import numpy as np\n",
        "import os\n",
        "from torch.utils.data import Dataset\n",
        "from torch.utils.data import DataLoader\n",
        "from torch.utils.tensorboard import SummaryWriter\n",
        "from PIL import Image\n",
        "import torchvision\n",
        "import torch\n",
        "from torch import nn\n",
        "\n",
        "class Test_NN(nn.Module):\n",
        "    def __init__(self):\n",
        "        super(Test_NN, self).__init__()\n",
        "        self.model1 = nn.Sequential(\n",
        "            nn.Conv2d(3, 32, 5, 1, 2),\n",
        "            nn.MaxPool2d(2),\n",
        "            nn.Conv2d(32, 32, 5, 1, 2),\n",
        "            nn.MaxPool2d(2),\n",
        "            nn.Conv2d(32, 64, 5, 1, 2),\n",
        "            nn.MaxPool2d(2),\n",
        "            nn.Flatten(),\n",
        "            nn.Linear(1024, 64),\n",
        "            nn.Linear(64, 10)\n",
        "        )\n",
        "\n",
        "    def forward(self, x):\n",
        "        x = self.model1(x)\n",
        "        return x\n",
        "\n",
        "test_nn = Test_NN()\n",
        "print(test_nn)\n",
        "\n",
        "input_tensor = torch.ones((64 ,3 ,32 ,32))\n",
        "print(input_tensor.shape)\n",
        "output_tensor = test_nn(input_tensor)\n",
        "print(output_tensor.shape)\n",
        "\n",
        "writer = SummaryWriter(\"logs_nn_graph\")\n",
        "\n",
        "writer.add_graph(test_nn, input_tensor)\n",
        "\n",
        "writer.close()\n",
        "#tensorboard --logdir=logs --port=6007\n",
        "#http://localhost:6007/"
      ]
    }
  ]
}